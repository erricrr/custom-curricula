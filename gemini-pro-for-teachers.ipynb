{
 "cells": [
  {
   "cell_type": "markdown",
   "metadata": {},
   "source": [
    "# Gemini for Teachers\n",
    "\n",
    "## Unleash the Power of Personalized Math with \"Custom Curricula\"\n",
    "\n",
    "Imagine a world where math problems come alive, sparking excitement and engagement in every student, while simultaneously pinpointing and strengthening their individual weaknesses.\n",
    "\n",
    "**Introducing \"Custom Curricula,\" the revolutionary tool that empowers teachers to craft personalized math word problems tailored to each student's unique interests, hobbies, and learning gaps.** \n",
    "\n",
    "**No more dry, textbook problems!** With Custom Curricula, teachers can create problems that resonate with students, whether they're passionate about sports, music, video games, or anything in between, all while addressing specific areas where they need extra support. \n",
    "\n",
    "**Here's how it works:**\n",
    "\n",
    "1. Teachers input student interests, hobbies, and areas of difficulty.\n",
    "2. Custom Curricula generates engaging word problems based on those inputs.\n",
    "3. Students tackle problems that feel relevant, exciting, and address their individual needs.**\n",
    "4. Learning becomes a personalized journey, fostering deeper understanding, motivation, and targeted skill development.\n",
    "\n",
    "**Custom Curricula isn't just for in-class assignments.** It's also a powerful tool for:\n",
    "\n",
    "* Creating customized exams that reflect student interests and address learning gaps.\n",
    "* Providing engaging extra credit opportunities that reinforce specific skills.\n",
    "* Offering personalized practice problems to target individual weaknesses and promote mastery.\n",
    "\n",
    "**With Custom Curricula, teachers can:**\n",
    "\n",
    "* Boost student engagement and motivation.\n",
    "* Make math relevant and relatable to students' lives.\n",
    "* Promote deeper understanding and critical thinking.\n",
    "* Personalize learning for every student, addressing individual strengths and weaknesses.\n",
    "\n",
    "**Custom Curricula is more than just a tool; it's a revolution in math education.** \n",
    "\n",
    "**Get ready to witness the magic of personalized learning and targeted skill development with Custom Curricula!**"
   ]
  },
  {
   "cell_type": "code",
   "execution_count": 15,
   "metadata": {},
   "outputs": [],
   "source": [
    "from utils_gemini import get_llm_response\n",
    "from IPython.display import Markdown\n",
    "import csv"
   ]
  },
  {
   "cell_type": "markdown",
   "metadata": {},
   "source": [
    "### Upload and Extract Student Data"
   ]
  },
  {
   "cell_type": "code",
   "execution_count": 16,
   "metadata": {},
   "outputs": [],
   "source": [
    "f = open(\"student_data.csv\", 'r')"
   ]
  },
  {
   "cell_type": "code",
   "execution_count": 17,
   "metadata": {},
   "outputs": [
    {
     "name": "stdout",
     "output_type": "stream",
     "text": [
      "{'First_Name': 'Aisha', 'Last_Name': 'Davis', 'Pronoun': 'she/her', 'Hobby1': 'Drawing', 'Hobby2': 'Soccer', 'Father_Name': 'Tom', 'Mother_Name': 'Sarah', 'Sibling_Name': 'Brother: Ben', 'Weakness_Math': 'Fractions', 'Strengths_Math': 'Basic Arithmetic', 'Weakness_Reading_Comprehension': 'Vocabulary', 'Strengths_Reading_Comprehension': 'Inferencing', 'Age': '10', 'Grade_Level': '5th'}\n",
      "{'First_Name': 'Diego', 'Last_Name': 'Chaves', 'Pronoun': 'he/him', 'Hobby1': 'Video games', 'Hobby2': 'Cycling', 'Father_Name': 'John', 'Mother_Name': 'Lisa', 'Sibling_Name': 'Sister: Amy', 'Weakness_Math': 'Multiplication', 'Strengths_Math': 'Problem-Solving', 'Weakness_Reading_Comprehension': 'Main Idea Identification', 'Strengths_Reading_Comprehension': 'Summarizing', 'Age': '10', 'Grade_Level': '5th'}\n",
      "{'First_Name': 'Mei', 'Last_Name': 'Green', 'Pronoun': 'she/her', 'Hobby1': 'Baking', 'Hobby2': 'Ballet', 'Father_Name': 'Mark', 'Mother_Name': 'Anna', 'Sibling_Name': 'Sister: Lily', 'Weakness_Math': 'Geometry', 'Strengths_Math': 'Fraction and Decimal Understanding', 'Weakness_Reading_Comprehension': 'Sequencing Events', 'Strengths_Reading_Comprehension': 'Making Connections', 'Age': '11', 'Grade_Level': '6th'}\n",
      "{'First_Name': 'Kai', 'Last_Name': 'Smith', 'Pronoun': 'he/him', 'Hobby1': 'Basketball', 'Hobby2': 'Reading', 'Father_Name': 'James', 'Mother_Name': 'Rachel', 'Sibling_Name': 'Brother: Alex', 'Weakness_Math': 'Word Problems', 'Strengths_Math': 'Algebraic Thinking', 'Weakness_Reading_Comprehension': 'Drawing Conclusions', 'Strengths_Reading_Comprehension': 'Visualizing', 'Age': '11', 'Grade_Level': '6th'}\n",
      "{'First_Name': 'Lila', 'Last_Name': 'Bonaventura', 'Pronoun': 'she/her', 'Hobby1': 'Wrestling', 'Hobby2': 'Roller skating', 'Father_Name': 'Chris', 'Mother_Name': 'Maria', 'Sibling_Name': 'Brother: Jack', 'Weakness_Math': 'Division', 'Strengths_Math': 'Number Sense', 'Weakness_Reading_Comprehension': 'Context Clues', 'Strengths_Reading_Comprehension': 'Predicting', 'Age': '10', 'Grade_Level': '5th'}\n",
      "{'First_Name': 'Amir', 'Last_Name': 'Singh', 'Pronoun': 'he/him', 'Hobby1': 'Running', 'Hobby2': 'Hiking', 'Father_Name': 'David', 'Mother_Name': 'Emma', 'Sibling_Name': 'Sister: Ellie', 'Weakness_Math': 'Decimals', 'Strengths_Math': 'Measurement and Data Analysis', 'Weakness_Reading_Comprehension': 'Detail Recall', 'Strengths_Reading_Comprehension': 'Synthesizing Information', 'Age': '10', 'Grade_Level': '5th'}\n",
      "{'First_Name': 'Sofia', 'Last_Name': 'Khan', 'Pronoun': 'she/her', 'Hobby1': 'Writing poems', 'Hobby2': 'Gymnastics', 'Father_Name': 'Mike', 'Mother_Name': 'Carla', 'Sibling_Name': 'Brother: Owen', 'Weakness_Math': 'Ratios', 'Strengths_Math': 'Logical Reasoning', 'Weakness_Reading_Comprehension': \"Author's Purpose\", 'Strengths_Reading_Comprehension': 'Identifying Text Structure', 'Age': '11', 'Grade_Level': '6th'}\n",
      "{'First_Name': 'Leo', 'Last_Name': 'Ali', 'Pronoun': 'he/him', 'Hobby1': 'Soccer', 'Hobby2': 'Collecting rocks', 'Father_Name': 'Luke', 'Mother_Name': 'Jenny', 'Sibling_Name': 'Sister: Zoe', 'Weakness_Math': 'Patterns', 'Strengths_Math': 'Proportional Reasoning', 'Weakness_Reading_Comprehension': 'Figurative Language', 'Strengths_Reading_Comprehension': 'Analyzing Characters', 'Age': '11', 'Grade_Level': '6th'}\n",
      "{'First_Name': 'Trang', 'Last_Name': 'Tran', 'Pronoun': 'she/her', 'Hobby1': 'Painting', 'Hobby2': 'Ice Skating', 'Father_Name': 'Kevin', 'Mother_Name': 'Laura', 'Sibling_Name': 'Sister: Grace', 'Weakness_Math': 'Subtraction', 'Strengths_Math': 'Geometry Skills', 'Weakness_Reading_Comprehension': 'Comparing and Contrasting', 'Strengths_Reading_Comprehension': 'Identifying Theme', 'Age': '10', 'Grade_Level': '5th'}\n",
      "{'First_Name': 'Ravi', 'Last_Name': 'Kapoor', 'Pronoun': 'he/him', 'Hobby1': 'Building with Legos', 'Hobby2': 'Chess', 'Father_Name': 'Paul', 'Mother_Name': 'Emily', 'Sibling_Name': 'Brother: Ethan', 'Weakness_Math': 'Basic Arithmetic', 'Strengths_Math': 'Patterns', 'Weakness_Reading_Comprehension': 'Cause and Effect', 'Strengths_Reading_Comprehension': 'Evaluating Arguments', 'Age': '10', 'Grade_Level': '5th'}\n"
     ]
    }
   ],
   "source": [
    "csv_reader = csv.DictReader(f)\n",
    "classroom = []\n",
    "\n",
    "for row in csv_reader:\n",
    "    print(row)\n",
    "    classroom.append(row)"
   ]
  },
  {
   "cell_type": "code",
   "execution_count": 18,
   "metadata": {},
   "outputs": [],
   "source": [
    "f.close()"
   ]
  },
  {
   "cell_type": "markdown",
   "metadata": {},
   "source": [
    "### For a Single Student"
   ]
  },
  {
   "cell_type": "code",
   "execution_count": 19,
   "metadata": {},
   "outputs": [
    {
     "name": "stdout",
     "output_type": "stream",
     "text": [
      "{'First_Name': 'Leo', 'Last_Name': 'Ali', 'Pronoun': 'he/him', 'Hobby1': 'Soccer', 'Hobby2': 'Collecting rocks', 'Father_Name': 'Luke', 'Mother_Name': 'Jenny', 'Sibling_Name': 'Sister: Zoe', 'Weakness_Math': 'Patterns', 'Strengths_Math': 'Proportional Reasoning', 'Weakness_Reading_Comprehension': 'Figurative Language', 'Strengths_Reading_Comprehension': 'Analyzing Characters', 'Age': '11', 'Grade_Level': '6th'}\n"
     ]
    }
   ],
   "source": [
    "# Select the first student\n",
    "class_student = classroom[7]\n",
    "print(class_student)"
   ]
  },
  {
   "cell_type": "code",
   "execution_count": 20,
   "metadata": {},
   "outputs": [],
   "source": [
    "# Extract the desired information\n",
    "first_name = class_student['First_Name']\n",
    "pronoun = class_student['Pronoun']\n",
    "hobby1 = class_student['Hobby1']\n",
    "hobby2 = class_student['Hobby2']\n",
    "weakness_math = class_student['Weakness_Math']\n",
    "grade_level = class_student['Grade_Level']\n",
    "age = class_student['Age']"
   ]
  },
  {
   "cell_type": "code",
   "execution_count": 21,
   "metadata": {},
   "outputs": [],
   "source": [
    "# Print the extracted information\n",
    "case = f\"First Name: {first_name}\\nHobbies: {hobby1} and {hobby2}\\nWeakness in Math: {weakness_math}\\nGrade Level: {grade_level}\\nAge: {age}\"\n",
    "\n",
    "# print(case)"
   ]
  },
  {
   "cell_type": "markdown",
   "metadata": {},
   "source": [
    "### LLM"
   ]
  },
  {
   "cell_type": "code",
   "execution_count": 22,
   "metadata": {},
   "outputs": [],
   "source": [
    "role = \"You are a school teacher's friendly, fun, reliable and creative AI assistant.\"\n",
    "\n",
    "prompt = f\"\"\"{role}\n",
    "My student, {first_name} is having a hard time with math. {first_name} is weak in: {weakness_math}. Generate an accurate question related to mathematics. It must be appropriate for {first_name} at age {age} and {grade_level} grade level. It must address {first_name}'s weakness: {weakness_math}. Also, it must incorporate ONLY ONE hobby, either: {hobby1} OR {hobby2}, but NOT BOTH. Most importantly, it must make sense! Always provide me, the teacher, with a step-by-step solution.\n",
    "\n",
    "Use the following format:\n",
    "Problem: <question related to mathematics in Markdown format>\n",
    "Solution: <solution to the Problem above>\n",
    "\n",
    "\"\"\""
   ]
  },
  {
   "cell_type": "code",
   "execution_count": 23,
   "metadata": {},
   "outputs": [],
   "source": [
    "# Store the LLM response\n",
    "response = get_llm_response(prompt)"
   ]
  },
  {
   "cell_type": "code",
   "execution_count": 24,
   "metadata": {},
   "outputs": [
    {
     "name": "stdout",
     "output_type": "stream",
     "text": [
      "First Name: Leo\n",
      "Hobbies: Soccer and Collecting rocks\n",
      "Weakness in Math: Patterns\n",
      "Grade Level: 6th\n",
      "Age: 11\n"
     ]
    },
    {
     "data": {
      "text/markdown": [
       "Problem:\n",
       "\n",
       "Leo has a collection of soccer cards. He has 3 cards on the first row, 6 cards on the second row, 9 cards on the third row, and so on. How many cards will Leo have on the tenth row?\n",
       "\n",
       "Solution:\n",
       "\n",
       "1. Identify the pattern: The number of cards on each row increases by 3.\n",
       "\n",
       "2. Write the equation: The number of cards on the nth row = 3n, where n is the row number.\n",
       "\n",
       "3. Substitute n = 10: The number of cards on the tenth row = 3 x 10 = 30.\n",
       "\n",
       "Therefore, Leo will have 30 cards on the tenth row."
      ],
      "text/plain": [
       "<IPython.core.display.Markdown object>"
      ]
     },
     "metadata": {},
     "output_type": "display_data"
    }
   ],
   "source": [
    "# Print the combined output\n",
    "print(case)\n",
    "\n",
    "# Print in Markdown format\n",
    "display(Markdown(response))\n",
    "# print(response)"
   ]
  },
  {
   "cell_type": "markdown",
   "metadata": {},
   "source": [
    "## Using a Function\n",
    "Putting it all together in one function."
   ]
  },
  {
   "cell_type": "code",
   "execution_count": 29,
   "metadata": {},
   "outputs": [],
   "source": [
    "def generate_student_math_prob(student, return_response=False):\n",
    "    first_name = student['First_Name']\n",
    "    # pronoun = student['Pronoun']\n",
    "    hobby1 = student['Hobby1']\n",
    "    hobby2 = student['Hobby2']\n",
    "    weakness_math = student['Weakness_Math']\n",
    "    grade_level = student['Grade_Level']\n",
    "    age = student['Age']\n",
    "\n",
    "    # Print the extracted information\n",
    "    case = f\"First Name: {first_name}\\nHobbies: {hobby1} and {hobby2}\\nWeakness in Math: {weakness_math}\\nGrade Level: {grade_level}\\nAge: {age}\"\n",
    "\n",
    "    prompt = f\"\"\"My student, {first_name} is having a hard time with math. {first_name} is weak in: {weakness_math}. Generate an accurate question related to mathematics. It must be appropriate for {first_name} at age {age} and {grade_level} grade level. It must address {first_name}'s weakness: {weakness_math}. Also, it must incorporate ONLY ONE hobby, either: {hobby1} OR {hobby2}, but NOT BOTH. Most importantly, it must make sense! Always provide me, the teacher, with a step-by-step solution.\n",
    "    \n",
    "    Use the following format:\n",
    "    Problem: <question related to mathematics in Markdown format>\n",
    "    Solution: <solution to the Problem above>\n",
    "    \"\"\"\n",
    "\n",
    "    # Store the LLM response\n",
    "    response = get_llm_response(prompt)\n",
    "    \n",
    "    # Print the case output\n",
    "    print(case)\n",
    "    # Print LLM response in Markdown format\n",
    "    display(Markdown(response))\n",
    "\n",
    "    if return_response:\n",
    "        return response"
   ]
  },
  {
   "cell_type": "markdown",
   "metadata": {},
   "source": [
    "#### Call for a single student"
   ]
  },
  {
   "cell_type": "code",
   "execution_count": 30,
   "metadata": {},
   "outputs": [
    {
     "name": "stdout",
     "output_type": "stream",
     "text": [
      "First Name: Aisha\n",
      "Hobbies: Drawing and Soccer\n",
      "Weakness in Math: Fractions\n",
      "Grade Level: 5th\n",
      "Age: 10\n"
     ]
    },
    {
     "data": {
      "text/markdown": [
       "Problem:\n",
       "\n",
       "Aisha is drawing a mural on a wall that is 6 feet long. She wants to divide the wall into 3 equal sections. What fraction of the wall will each section be?\n",
       "\n",
       "Solution:\n",
       "\n",
       "Step 1: Find the total number of feet in the wall.\n",
       "\n",
       "6 feet\n",
       "\n",
       "Step 2: Find the number of sections the wall will be divided into.\n",
       "\n",
       "3 sections\n",
       "\n",
       "Step 3: Divide the total number of feet by the number of sections to find the length of each section.\n",
       "\n",
       "6 feet ÷ 3 sections = 2 feet per section\n",
       "\n",
       "Step 4: Convert the length of each section into a fraction of the total length of the wall.\n",
       "\n",
       "2 feet / 6 feet = 2/6\n",
       "\n",
       "Therefore, each section of the wall will be 2/6 of the total length."
      ],
      "text/plain": [
       "<IPython.core.display.Markdown object>"
      ]
     },
     "metadata": {},
     "output_type": "display_data"
    }
   ],
   "source": [
    "# For one student\n",
    "single_student = classroom[0]\n",
    "generate_student_math_prob(single_student)"
   ]
  },
  {
   "cell_type": "markdown",
   "metadata": {},
   "source": [
    "#### Loop Through Multiple Students"
   ]
  },
  {
   "cell_type": "code",
   "execution_count": 40,
   "metadata": {},
   "outputs": [
    {
     "name": "stdout",
     "output_type": "stream",
     "text": [
      "First Name: Aisha\n",
      "Hobbies: Drawing and Soccer\n",
      "Weakness in Math: Fractions\n",
      "Grade Level: 5th\n",
      "Age: 10\n"
     ]
    },
    {
     "data": {
      "text/markdown": [
       "Problem:\n",
       "\n",
       "Aisha wants to draw a soccer field that is 100 meters long. She plans to divide it into 10 equal sections for practice. What length will each section of the field be?\n",
       "\n",
       "Solution:\n",
       "\n",
       "Step 1: Determine the total number of sections\n",
       "\n",
       "Aisha wants to divide the field into 10 sections.\n",
       "\n",
       "Step 2: Calculate the length of each section\n",
       "\n",
       "To find the length of each section, we divide the total length of the field by the number of sections:\n",
       "\n",
       "Length of each section = Total length ÷ Number of sections\n",
       "Length of each section = 100 meters ÷ 10\n",
       "Length of each section = 10 meters\n",
       "\n",
       "Therefore, each section of the soccer field will be 10 meters long."
      ],
      "text/plain": [
       "<IPython.core.display.Markdown object>"
      ]
     },
     "metadata": {},
     "output_type": "display_data"
    },
    {
     "name": "stdout",
     "output_type": "stream",
     "text": [
      "First Name: Diego\n",
      "Hobbies: Video games and Cycling\n",
      "Weakness in Math: Multiplication\n",
      "Grade Level: 5th\n",
      "Age: 10\n"
     ]
    },
    {
     "data": {
      "text/markdown": [
       "Problem:\n",
       "\n",
       "Diego loves cycling and wants to track his progress. He decides to multiply his cycling time each day by the number of days he cycles in a week. If Diego cycles for 30 minutes on Monday, 45 minutes on Tuesday, and 20 minutes on Wednesday, how many total minutes did he cycle in the three days?\n",
       "\n",
       "Solution:\n",
       "\n",
       "Step 1: Multiply Diego's cycling time for each day by the number of days he cycles in a week (3).\n",
       "- Monday: 30 minutes x 3 = 90 minutes\n",
       "- Tuesday: 45 minutes x 3 = 135 minutes\n",
       "- Wednesday: 20 minutes x 3 = 60 minutes\n",
       "\n",
       "Step 2: Add up the minutes from each day to find the total minutes cycled.\n",
       "- 90 minutes + 135 minutes + 60 minutes = 285 minutes\n",
       "\n",
       "Therefore, Diego cycled a total of 285 minutes in the three days."
      ],
      "text/plain": [
       "<IPython.core.display.Markdown object>"
      ]
     },
     "metadata": {},
     "output_type": "display_data"
    },
    {
     "name": "stdout",
     "output_type": "stream",
     "text": [
      "First Name: Mei\n",
      "Hobbies: Baking and Ballet\n",
      "Weakness in Math: Geometry\n",
      "Grade Level: 6th\n",
      "Age: 11\n"
     ]
    },
    {
     "data": {
      "text/markdown": [
       "Problem:\n",
       "\n",
       "Mei wants to make a rectangular cake for her ballet class. The length of the cake is 12 inches, and the width is 8 inches. If she wants to divide the cake equally among her 10 classmates, what is the area of each piece of cake in square inches?\n",
       "\n",
       "Solution:\n",
       "\n",
       "1. Calculate the total area of the cake:\n",
       "```\n",
       "Area of cake = Length x Width\n",
       "Area of cake = 12 inches x 8 inches\n",
       "Area of cake = 96 square inches\n",
       "```\n",
       "\n",
       "2. Divide the total area by the number of classmates to find the area of each piece:\n",
       "```\n",
       "Area of each piece = Total area / Number of classmates\n",
       "Area of each piece = 96 square inches / 10 classmates\n",
       "Area of each piece = 9.6 square inches\n",
       "```\n",
       "\n",
       "Therefore, the area of each piece of cake is 9.6 square inches."
      ],
      "text/plain": [
       "<IPython.core.display.Markdown object>"
      ]
     },
     "metadata": {},
     "output_type": "display_data"
    },
    {
     "name": "stdout",
     "output_type": "stream",
     "text": [
      "First Name: Kai\n",
      "Hobbies: Basketball and Reading\n",
      "Weakness in Math: Word Problems\n",
      "Grade Level: 6th\n",
      "Age: 11\n"
     ]
    },
    {
     "data": {
      "text/markdown": [
       "Problem:\n",
       "\n",
       "Kai loves playing basketball. During a recent game, he scored 15 points in the first half and 18 points in the second half. If Kai made 3 free throws worth 1 point each, how many field goals did he make? (Assume each field goal is worth 2 points.)\n",
       "\n",
       "Solution:\n",
       "\n",
       "1. Find the total number of points Kai scored:\n",
       "   \n",
       "   15 (points in first half) + 18 (points in second half) = 33 points\n",
       "\n",
       "2. Subtract the points from free throws:\n",
       "\n",
       "   33 (total points) - 3 (points from free throws) = 30 points\n",
       "\n",
       "3. Divide by the value of each field goal:\n",
       "\n",
       "   30 (points from field goals) / 2 (points per field goal) = 15 field goals\n",
       "\n",
       "Therefore, Kai made 15 field goals during the basketball game."
      ],
      "text/plain": [
       "<IPython.core.display.Markdown object>"
      ]
     },
     "metadata": {},
     "output_type": "display_data"
    },
    {
     "name": "stdout",
     "output_type": "stream",
     "text": [
      "First Name: Lila\n",
      "Hobbies: Wrestling and Roller skating\n",
      "Weakness in Math: Division\n",
      "Grade Level: 5th\n",
      "Age: 10\n"
     ]
    },
    {
     "data": {
      "text/markdown": [
       "Problem:\n",
       "\n",
       "Lila loves roller skating. She has 36 roller skates that she wants to divide evenly among 6 friends for a skating party. How many roller skates will each friend receive?\n",
       "\n",
       "Solution:\n",
       "\n",
       "1. Divide the total number of roller skates by the number of friends:\n",
       "   36 ÷ 6 = 6 roller skates\n",
       "\n",
       "2. Each friend will receive 6 roller skates."
      ],
      "text/plain": [
       "<IPython.core.display.Markdown object>"
      ]
     },
     "metadata": {},
     "output_type": "display_data"
    },
    {
     "name": "stdout",
     "output_type": "stream",
     "text": [
      "First Name: Amir\n",
      "Hobbies: Running and Hiking\n",
      "Weakness in Math: Decimals\n",
      "Grade Level: 5th\n",
      "Age: 10\n"
     ]
    },
    {
     "data": {
      "text/markdown": [
       "Problem:\n",
       "\n",
       "Amir is training for a 5-kilometer running race. He runs 0.75 kilometers each day for 5 days. How many total kilometers will Amir run during his training?\n",
       "\n",
       "Solution:\n",
       "\n",
       "1. Multiply the distance Amir runs each day by the number of days:\n",
       "\n",
       "```\n",
       "0.75 km/day x 5 days = 3.75 km\n",
       "```\n",
       "\n",
       "2. Therefore, Amir will run a total of 3.75 kilometers during his training."
      ],
      "text/plain": [
       "<IPython.core.display.Markdown object>"
      ]
     },
     "metadata": {},
     "output_type": "display_data"
    },
    {
     "name": "stdout",
     "output_type": "stream",
     "text": [
      "First Name: Sofia\n",
      "Hobbies: Writing poems and Gymnastics\n",
      "Weakness in Math: Ratios\n",
      "Grade Level: 6th\n",
      "Age: 11\n"
     ]
    },
    {
     "data": {
      "text/markdown": [
       "Problem:\n",
       "\n",
       "Sofia wrote 3 poems in 6 days. If she continues writing poems at the same rate, how many poems will she write in 12 days?\n",
       "\n",
       "Solution:\n",
       "\n",
       "Step 1: Find the ratio of poems to days.\n",
       "\n",
       "Ratio = Poems / Days\n",
       "Ratio = 3 poems / 6 days\n",
       "Ratio = 1 poem / 2 days\n",
       "\n",
       "Step 2: Use the ratio to find the number of poems in 12 days.\n",
       "\n",
       "Number of poems = Ratio x Days\n",
       "Number of poems = 1 poem / 2 days x 12 days\n",
       "Number of poems = 6 poems\n",
       "\n",
       "Therefore, Sofia will write 6 poems in 12 days."
      ],
      "text/plain": [
       "<IPython.core.display.Markdown object>"
      ]
     },
     "metadata": {},
     "output_type": "display_data"
    },
    {
     "name": "stdout",
     "output_type": "stream",
     "text": [
      "First Name: Leo\n",
      "Hobbies: Soccer and Collecting rocks\n",
      "Weakness in Math: Patterns\n",
      "Grade Level: 6th\n",
      "Age: 11\n"
     ]
    },
    {
     "data": {
      "text/markdown": [
       "Problem:\n",
       "\n",
       "Leo collects rocks. He has a collection of 12 rocks, which he arranges in a row. The first rock is a blue agate, the second rock is a red jasper, and the third rock is a green malachite. The pattern continues, with the fourth rock being a blue agate, the fifth rock being a red jasper, and so on.\n",
       "\n",
       "If Leo continues to arrange his rocks in this pattern, what color will the 10th rock be?\n",
       "\n",
       "Solution:\n",
       "\n",
       "1. Identify the pattern: The pattern is a repeating sequence of three rocks: blue agate, red jasper, green malachite.\n",
       "2. Determine the position of the 10th rock in the sequence: The 10th rock is the fourth rock in the third repetition of the sequence.\n",
       "3. Count the rocks in the sequence: There are 12 rocks in the sequence, so the third repetition of the sequence starts with the 10th rock.\n",
       "4. Find the color of the fourth rock in the sequence: The fourth rock in the sequence is a blue agate.\n",
       "\n",
       "Therefore, the 10th rock in Leo's collection will be a blue agate."
      ],
      "text/plain": [
       "<IPython.core.display.Markdown object>"
      ]
     },
     "metadata": {},
     "output_type": "display_data"
    },
    {
     "name": "stdout",
     "output_type": "stream",
     "text": [
      "First Name: Trang\n",
      "Hobbies: Painting and Ice Skating\n",
      "Weakness in Math: Subtraction\n",
      "Grade Level: 5th\n",
      "Age: 10\n"
     ]
    },
    {
     "data": {
      "text/markdown": [
       "Problem:\n",
       "\n",
       "Trang has a collection of 15 paintbrushes. She uses 7 paintbrushes to create a painting for her art class. How many paintbrushes does she have left?\n",
       "\n",
       "Solution:\n",
       "\n",
       "1. Subtract the number of paintbrushes used from the total number of paintbrushes:\n",
       "\n",
       "```\n",
       "15 (total number of paintbrushes) - 7 (number of paintbrushes used) = ?\n",
       "```\n",
       "\n",
       "2. Perform the subtraction:\n",
       "\n",
       "```\n",
       "15 - 7 = 8\n",
       "```\n",
       "\n",
       "3. Conclusion:\n",
       "\n",
       "Therefore, Trang has 8 paintbrushes left."
      ],
      "text/plain": [
       "<IPython.core.display.Markdown object>"
      ]
     },
     "metadata": {},
     "output_type": "display_data"
    },
    {
     "name": "stdout",
     "output_type": "stream",
     "text": [
      "First Name: Ravi\n",
      "Hobbies: Building with Legos and Chess\n",
      "Weakness in Math: Basic Arithmetic\n",
      "Grade Level: 5th\n",
      "Age: 10\n"
     ]
    },
    {
     "data": {
      "text/markdown": [
       "Problem:\n",
       "\n",
       "Ravi is building a tower with Legos. He has 24 blue Legos and 18 red Legos. He wants to build the tower so that each layer has the same number of blue and red Legos. What is the greatest number of layers Ravi can build?\n",
       "\n",
       "Solution:\n",
       "\n",
       "1. Find the greatest common factor (GCF) of 24 and 18.\n",
       "\n",
       "```\n",
       "24 = 2 × 2 × 2 × 3\n",
       "18 = 2 × 3 × 3\n",
       "GCF = 2 × 3 = 6\n",
       "```\n",
       "\n",
       "2. The greatest number of layers Ravi can build is the GCF.\n",
       "\n",
       "```\n",
       "Greatest number of layers = GCF = 6\n",
       "```"
      ],
      "text/plain": [
       "<IPython.core.display.Markdown object>"
      ]
     },
     "metadata": {},
     "output_type": "display_data"
    }
   ],
   "source": [
    "# Iterate over each student in the classroom\n",
    "for student in classroom:\n",
    "    generate_student_math_prob(student)"
   ]
  },
  {
   "cell_type": "markdown",
   "metadata": {},
   "source": [
    "## Output to a CSV File"
   ]
  },
  {
   "cell_type": "code",
   "execution_count": 33,
   "metadata": {},
   "outputs": [
    {
     "name": "stdout",
     "output_type": "stream",
     "text": [
      "First Name: Aisha\n",
      "Hobbies: Drawing and Soccer\n",
      "Weakness in Math: Fractions\n",
      "Grade Level: 5th\n",
      "Age: 10\n"
     ]
    },
    {
     "data": {
      "text/markdown": [
       "Problem:\n",
       "\n",
       "Aisha is drawing a picture of her soccer team. She wants to divide the paper into 4 equal sections to draw each player. If the paper is 12 inches wide, what fraction of the paper will each player occupy?\n",
       "\n",
       "Solution:\n",
       "\n",
       "1. Divide the paper into 4 equal sections: Each section will be 12 ÷ 4 = 3 inches.\n",
       "2. Convert the width of each section to a fraction of the total paper width: 3 inches / 12 inches = 1/4\n",
       "3. Therefore, each player will occupy 1/4 of the paper."
      ],
      "text/plain": [
       "<IPython.core.display.Markdown object>"
      ]
     },
     "metadata": {},
     "output_type": "display_data"
    },
    {
     "name": "stdout",
     "output_type": "stream",
     "text": [
      "First Name: Diego\n",
      "Hobbies: Video games and Cycling\n",
      "Weakness in Math: Multiplication\n",
      "Grade Level: 5th\n",
      "Age: 10\n"
     ]
    },
    {
     "data": {
      "text/markdown": [
       "Problem:\n",
       "\n",
       "Diego is an avid cyclist. He wants to ride his bike for 5 hours each day for the next 7 days. How many total hours will Diego spend cycling?\n",
       "\n",
       "Solution:\n",
       "\n",
       "1. Multiply the number of days by the number of hours per day:\n",
       "   - 7 days x 5 hours/day = 35 hours\n",
       "\n",
       "2. Therefore, Diego will spend a total of 35 hours cycling over the next 7 days."
      ],
      "text/plain": [
       "<IPython.core.display.Markdown object>"
      ]
     },
     "metadata": {},
     "output_type": "display_data"
    },
    {
     "name": "stdout",
     "output_type": "stream",
     "text": [
      "First Name: Mei\n",
      "Hobbies: Baking and Ballet\n",
      "Weakness in Math: Geometry\n",
      "Grade Level: 6th\n",
      "Age: 11\n"
     ]
    },
    {
     "data": {
      "text/markdown": [
       "Problem:\n",
       "\n",
       "Mei loves ballet, and she wants to design a rectangular stage for her next performance. The stage will be 12 feet long and 8 feet wide. Mei wants to add a border around the stage that is 1 foot wide on all sides.\n",
       "\n",
       "How much border material will Mei need to purchase?\n",
       "\n",
       "Solution:\n",
       "\n",
       "Step 1: Calculate the perimeter of the original stage.\n",
       "Perimeter = 2(Length + Width) = 2(12 ft + 8 ft) = 40 ft\n",
       "\n",
       "Step 2: Calculate the perimeter of the new stage (including the border).\n",
       "New Perimeter = 2(New Length + New Width)\n",
       "\n",
       "Step 3: Determine the width of the border.\n",
       "Border Width = New Width - Original Width = 8 ft + 2 ft - 8 ft = 2 ft\n",
       "\n",
       "Step 4: Calculate the length of the border material needed.\n",
       "Border Length = New Perimeter - Original Perimeter = 40 ft + 4 ft - 40 ft = 4 ft\n",
       "\n",
       "Step 5: Calculate the amount of border material needed.\n",
       "Border Material = Border Length  Border Width = 4 ft  2 ft = 8 sq ft"
      ],
      "text/plain": [
       "<IPython.core.display.Markdown object>"
      ]
     },
     "metadata": {},
     "output_type": "display_data"
    },
    {
     "name": "stdout",
     "output_type": "stream",
     "text": [
      "First Name: Kai\n",
      "Hobbies: Basketball and Reading\n",
      "Weakness in Math: Word Problems\n",
      "Grade Level: 6th\n",
      "Age: 11\n"
     ]
    },
    {
     "data": {
      "text/markdown": [
       "Problem:\n",
       "\n",
       "Kai loves playing basketball. During his practice, he made 12 out of 18 free throw shots. If Kai continued practicing and made 4 more shots, what percentage of his total shots did he make?\n",
       "\n",
       "Solution:\n",
       "\n",
       "Step 1: Find the total number of shots Kai made.\n",
       "12 shots (initial) + 4 shots (additional) = 16 shots\n",
       "\n",
       "Step 2: Find the total number of shots Kai attempted.\n",
       "18 shots (initial) + 4 shots (additional) = 22 shots\n",
       "\n",
       "Step 3: Calculate the percentage of shots made.\n",
       "(16 shots made / 22 shots attempted) x 100% = 72.73% (rounded to two decimal places)\n",
       "\n",
       "Therefore, Kai made 72.73% of his total shots."
      ],
      "text/plain": [
       "<IPython.core.display.Markdown object>"
      ]
     },
     "metadata": {},
     "output_type": "display_data"
    },
    {
     "name": "stdout",
     "output_type": "stream",
     "text": [
      "First Name: Lila\n",
      "Hobbies: Wrestling and Roller skating\n",
      "Weakness in Math: Division\n",
      "Grade Level: 5th\n",
      "Age: 10\n"
     ]
    },
    {
     "data": {
      "text/markdown": [
       "Problem:\n",
       "\n",
       "Lila loves wrestling. She has 24 wrestling toys. She wants to divide them equally among her 6 friends. How many toys will each friend get?\n",
       "\n",
       "Solution:\n",
       "\n",
       "1. Understand the problem: Lila has 24 toys and wants to divide them equally among 6 friends.\n",
       "2. Plan the solution: We need to divide 24 by 6 to find how many toys each friend will get.\n",
       "3. Solve the problem:\n",
       "\n",
       "```\n",
       "24 ÷ 6 = 4\n",
       "```\n",
       "\n",
       "4. Check the answer: We can check our answer by multiplying the number of toys each friend gets by the number of friends:\n",
       "\n",
       "```\n",
       "4 × 6 = 24\n",
       "```\n",
       "\n",
       "This equals the total number of toys, so our answer is correct.\n",
       "\n",
       "Answer: Each friend will get 4 wrestling toys."
      ],
      "text/plain": [
       "<IPython.core.display.Markdown object>"
      ]
     },
     "metadata": {},
     "output_type": "display_data"
    },
    {
     "name": "stdout",
     "output_type": "stream",
     "text": [
      "First Name: Amir\n",
      "Hobbies: Running and Hiking\n",
      "Weakness in Math: Decimals\n",
      "Grade Level: 5th\n",
      "Age: 10\n"
     ]
    },
    {
     "data": {
      "text/markdown": [
       "Problem:\n",
       "\n",
       "Amir is training for a 5-kilometer race. He runs 3.25 kilometers on Monday and 2.75 kilometers on Tuesday. How far has Amir run in total so far?\n",
       "\n",
       "Solution:\n",
       "\n",
       "1. Add the two distances: 3.25 kilometers + 2.75 kilometers = 6 kilometers\n",
       "2. Write the answer in decimal form: 6 kilometers = 6.00 kilometers\n",
       "\n",
       "Therefore, Amir has run 6.00 kilometers in total so far."
      ],
      "text/plain": [
       "<IPython.core.display.Markdown object>"
      ]
     },
     "metadata": {},
     "output_type": "display_data"
    },
    {
     "name": "stdout",
     "output_type": "stream",
     "text": [
      "First Name: Sofia\n",
      "Hobbies: Writing poems and Gymnastics\n",
      "Weakness in Math: Ratios\n",
      "Grade Level: 6th\n",
      "Age: 11\n"
     ]
    },
    {
     "data": {
      "text/markdown": [
       "Problem:\n",
       "\n",
       "Sofia is a talented gymnast who loves to write poems. She practices gymnastics for 2 hours every day and writes poems for 1 hour every day. If Sofia spends a total of 21 hours on these hobbies in a week, what is the ratio of the time she spends on gymnastics to the time she spends on writing poems?\n",
       "\n",
       "Solution:\n",
       "\n",
       "Step 1: Find the total number of hours Sofia spends on her hobbies in a week.\n",
       "2 hours/day × 7 days/week = 14 hours on gymnastics\n",
       "1 hour/day × 7 days/week = 7 hours on writing poems\n",
       "14 hours + 7 hours = 21 hours total\n",
       "\n",
       "Step 2: Write the ratio of gymnastics time to writing time.\n",
       "Ratio = Gymnastics time : Writing time\n",
       "Ratio = 14 hours : 7 hours\n",
       "\n",
       "Step 3: Simplify the ratio.\n",
       "Divide both sides by 7 to get:\n",
       "Ratio = 2 : 1\n",
       "\n",
       "Therefore, the ratio of the time Sofia spends on gymnastics to the time she spends on writing poems is 2 : 1."
      ],
      "text/plain": [
       "<IPython.core.display.Markdown object>"
      ]
     },
     "metadata": {},
     "output_type": "display_data"
    },
    {
     "name": "stdout",
     "output_type": "stream",
     "text": [
      "First Name: Leo\n",
      "Hobbies: Soccer and Collecting rocks\n",
      "Weakness in Math: Patterns\n",
      "Grade Level: 6th\n",
      "Age: 11\n"
     ]
    },
    {
     "data": {
      "text/markdown": [
       "Problem:\n",
       "\n",
       "Leo loves collecting rocks. He has arranged his rocks in a pattern. The first row has 3 rocks, the second row has 5 rocks, the third row has 7 rocks, and so on. If Leo continues this pattern, how many rocks will he have in the 10th row?\n",
       "\n",
       "Solution:\n",
       "\n",
       "Step 1: Identify the pattern. The pattern is that each row has 2 more rocks than the previous row.\n",
       "\n",
       "Step 2: Find the rule for the pattern. To find the number of rocks in a row, we can use the rule: number of rocks = 2  row number + 1.\n",
       "\n",
       "Step 3: Substitute the given row number into the rule. For the 10th row, we have:\n",
       "\n",
       "```\n",
       "number of rocks = 2  10 + 1\n",
       "number of rocks = 20 + 1\n",
       "number of rocks = 21\n",
       "```\n",
       "\n",
       "Therefore, Leo will have 21 rocks in the 10th row."
      ],
      "text/plain": [
       "<IPython.core.display.Markdown object>"
      ]
     },
     "metadata": {},
     "output_type": "display_data"
    },
    {
     "name": "stdout",
     "output_type": "stream",
     "text": [
      "First Name: Trang\n",
      "Hobbies: Painting and Ice Skating\n",
      "Weakness in Math: Subtraction\n",
      "Grade Level: 5th\n",
      "Age: 10\n"
     ]
    },
    {
     "data": {
      "text/markdown": [
       "Problem:\n",
       "\n",
       "Trang loves to paint. She has 12 different colors of paint. If she uses 5 colors to paint a picture, how many colors does she have left?\n",
       "\n",
       "Solution:\n",
       "\n",
       "1. Understand the problem: Trang has 12 colors of paint and uses 5 for a picture.\n",
       "2. Write a number sentence: Colors left = Total colors - Colors used\n",
       "3. Substitute the numbers: Colors left = 12 - 5\n",
       "4. Solve the subtraction: Colors left = 7\n",
       "5. Answer: Trang has 7 colors of paint left."
      ],
      "text/plain": [
       "<IPython.core.display.Markdown object>"
      ]
     },
     "metadata": {},
     "output_type": "display_data"
    },
    {
     "name": "stdout",
     "output_type": "stream",
     "text": [
      "First Name: Ravi\n",
      "Hobbies: Building with Legos and Chess\n",
      "Weakness in Math: Basic Arithmetic\n",
      "Grade Level: 5th\n",
      "Age: 10\n"
     ]
    },
    {
     "data": {
      "text/markdown": [
       "Problem:\n",
       "\n",
       "Ravi is building a tower with Legos. He wants to stack 5 layers of Legos. Each layer has 12 Legos. How many Legos does Ravi need in total?\n",
       "\n",
       "Solution:\n",
       "\n",
       "1. Understand the problem: Ravi wants to know the total number of Legos needed to build a tower with 5 layers, each containing 12 Legos.\n",
       "2. Identify the operation: We need to multiply the number of layers by the number of Legos in each layer.\n",
       "3. Perform the operation: 5 layers × 12 Legos/layer = 60 Legos.\n",
       "4. Answer: Ravi needs 60 Legos in total."
      ],
      "text/plain": [
       "<IPython.core.display.Markdown object>"
      ]
     },
     "metadata": {},
     "output_type": "display_data"
    }
   ],
   "source": [
    "# Open a CSV file for writing\n",
    "with open('output.csv', mode='w', newline='') as file:\n",
    "    writer = csv.writer(file)\n",
    "    # Write the headers\n",
    "    writer.writerow(['First_Name', 'Hobby1', 'Hobby2', 'Weakness_Math', 'Grade_Level', 'Age', 'Problem', 'Solution'])\n",
    "\n",
    "    for student in classroom:\n",
    "        response = generate_student_math_prob(student, return_response=True)\n",
    "        # Extract problem and solution from the response\n",
    "        problem_start = response.find('Problem:') + len('Problem:')\n",
    "        solution_start = response.find('Solution:')\n",
    "        problem = response[problem_start:solution_start].strip()\n",
    "        solution = response[solution_start + len('Solution:'):].strip()\n",
    "\n",
    "        # Write the student data and the generated problem and solution to the CSV file\n",
    "        writer.writerow([\n",
    "            student['First_Name'],\n",
    "            student['Hobby1'],\n",
    "            student['Hobby2'],\n",
    "            student['Weakness_Math'],\n",
    "            student['Grade_Level'],\n",
    "            student['Age'],\n",
    "            problem,\n",
    "            solution,\n",
    "        ])\n"
   ]
  },
  {
   "cell_type": "markdown",
   "metadata": {},
   "source": [
    "## Extra Notes\n",
    "### Expand learning potential across subjects\n",
    "\n",
    "Custom Curricula need not be limited to math alone. The same personalized approach could be applied to:\n",
    "\n",
    "- Crafting reading assignments tailored to student interests, with passages about science, history or other topics they find engaging. \n",
    "\n",
    "- Generating discussion questions to promote critical thinking, evaluate comprehension and target skills. \n",
    "\n",
    "- Suggesting supplemental extracurricular materials to reinforce learning.\n",
    "\n",
    "**Promote literacy through motivation** \n",
    "\n",
    "When reading content resonates with personal passions, motivation soars. Custom Curricula could: \n",
    "\n",
    "- Assign passages about student hobbies like music, art or sports to foster enjoyment.\n",
    "\n",
    "- Curate discussion questions that relate material to real world examples. \n",
    "\n",
    "- Provide book recommendations for independent reading based on profiles.\n",
    "\n",
    "**Assess multiple learning domains**\n",
    "\n",
    "Its personalized evaluation powers could:\n",
    "\n",
    "- Craft reading tests evaluating comprehension of interest-based content.  \n",
    "\n",
    "- Identify reading strengths and weaknesses across various subject areas.\n",
    "\n",
    "- Assign practice passages addressing skills in need of reinforcement."
   ]
  }
 ],
 "metadata": {
  "kernelspec": {
   "display_name": "DLAI",
   "language": "python",
   "name": "python3"
  },
  "language_info": {
   "codemirror_mode": {
    "name": "ipython",
    "version": 3
   },
   "file_extension": ".py",
   "mimetype": "text/x-python",
   "name": "python",
   "nbconvert_exporter": "python",
   "pygments_lexer": "ipython3",
   "version": "3.10.13"
  }
 },
 "nbformat": 4,
 "nbformat_minor": 2
}
